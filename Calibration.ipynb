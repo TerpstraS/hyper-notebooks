{
 "cells": [
  {
   "cell_type": "code",
   "execution_count": 1,
   "metadata": {},
   "outputs": [],
   "source": [
    "import numpy as np\n",
    "from pathlib import Path\n",
    "olderr = np.seterr(divide='ignore')"
   ]
  },
  {
   "cell_type": "code",
   "execution_count": 2,
   "metadata": {},
   "outputs": [],
   "source": [
    "from box import Box, DataSet\n",
    "from units import unit"
   ]
  },
  {
   "cell_type": "code",
   "execution_count": 3,
   "metadata": {},
   "outputs": [],
   "source": [
    "# settings\n",
    "\n",
    "data_folder = Path(\"/mnt/Knolselderij/bulk/Abrupt/\")\n",
    "month = 3\n",
    "\n",
    "sigma_d = unit('200 km')\n",
    "sigma_t = unit('5 year')\n",
    "\n",
    "gamma = 1\n",
    "scaling_factor = gamma * unit('10 km/year')\n",
    "sobel_delta_t = unit('1 year')\n",
    "sobel_delta_d = sobel_delta_t * scaling_factor\n",
    "sobel_weights = [sobel_delta_t, sobel_delta_d, sobel_delta_d]"
   ]
  },
  {
   "cell_type": "code",
   "execution_count": 4,
   "metadata": {},
   "outputs": [],
   "source": [
    "control_set = DataSet(\n",
    "    path=data_folder,\n",
    "    model='MPI-ESM-LR',\n",
    "    variable='tas',\n",
    "    scenario='piControl',\n",
    "    realization='r1i1p1')\n",
    "control_set.load()"
   ]
  },
  {
   "cell_type": "code",
   "execution_count": 5,
   "metadata": {},
   "outputs": [],
   "source": [
    "control_data = control_set.data[month-1::12]\n",
    "control_box = control_set.box[month-1::12]\n",
    "smooth_control_data = control_box.gaussian_filter(control_data, [sigma_t, sigma_d, sigma_d])"
   ]
  },
  {
   "cell_type": "code",
   "execution_count": 7,
   "metadata": {},
   "outputs": [],
   "source": [
    "cal = control_box.calibrate_sobel(smooth_control_data, sobel_delta_t, sobel_delta_d)"
   ]
  },
  {
   "cell_type": "code",
   "execution_count": 11,
   "metadata": {},
   "outputs": [
    {
     "name": "stdout",
     "output_type": "stream",
     "text": [
      "time      : [ 0.          0.01403261  0.0314737   0.0623523   1.15789974]\n",
      "distance  : [  1.01828191e-05   5.16311750e-02   9.72578079e-02   1.58531472e-01\n",
      "   1.30268240e+00]\n",
      "magnitude : [  2.02006049e-04   6.32240772e-02   1.08935483e-01   1.80317283e-01\n",
      "   1.31090987e+00]\n",
      "gamma     : [ 0.          0.2717855   0.32361102  0.39331177  0.88885802]\n",
      "recommended setting for gamma:  0.393312\n"
     ]
    }
   ],
   "source": [
    "for k, v in cal.items():\n",
    "    print(\"{:10}: {}\".format(k, v))\n",
    "print(\"recommended setting for gamma: \", cal['gamma'][3])"
   ]
  },
  {
   "cell_type": "code",
   "execution_count": null,
   "metadata": {
    "collapsed": true
   },
   "outputs": [],
   "source": []
  }
 ],
 "metadata": {
  "kernelspec": {
   "display_name": "Python 3",
   "language": "python",
   "name": "python3"
  },
  "language_info": {
   "codemirror_mode": {
    "name": "ipython",
    "version": 3
   },
   "file_extension": ".py",
   "mimetype": "text/x-python",
   "name": "python",
   "nbconvert_exporter": "python",
   "pygments_lexer": "ipython3",
   "version": "3.6.3"
  }
 },
 "nbformat": 4,
 "nbformat_minor": 2
}
