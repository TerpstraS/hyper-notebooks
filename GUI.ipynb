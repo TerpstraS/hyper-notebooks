{
 "cells": [
  {
   "cell_type": "code",
   "execution_count": 1,
   "metadata": {
    "collapsed": true
   },
   "outputs": [],
   "source": [
    "import numpy as np\n",
    "from ipywidgets import widgets, Layout\n",
    "import os\n",
    "from pint import UnitRegistry"
   ]
  },
  {
   "cell_type": "code",
   "execution_count": 2,
   "metadata": {},
   "outputs": [
    {
     "data": {
      "application/vnd.jupyter.widget-view+json": {
       "model_id": "70489b4120184c289fcb41358bb3aba3"
      }
     },
     "metadata": {},
     "output_type": "display_data"
    }
   ],
   "source": [
    "from IPython.display import display\n",
    "w = widgets.IntSlider()\n",
    "display(w)"
   ]
  },
  {
   "cell_type": "code",
   "execution_count": 3,
   "metadata": {},
   "outputs": [
    {
     "data": {
      "application/vnd.jupyter.widget-view+json": {
       "model_id": "70489b4120184c289fcb41358bb3aba3"
      }
     },
     "metadata": {},
     "output_type": "display_data"
    }
   ],
   "source": [
    "display(w)"
   ]
  },
  {
   "cell_type": "code",
   "execution_count": 4,
   "metadata": {
    "collapsed": true
   },
   "outputs": [],
   "source": [
    "w.value = 50"
   ]
  },
  {
   "cell_type": "code",
   "execution_count": 5,
   "metadata": {},
   "outputs": [
    {
     "data": {
      "application/vnd.jupyter.widget-view+json": {
       "model_id": "bf0a73d96be745208cbfb9e9d45ed6db"
      }
     },
     "metadata": {},
     "output_type": "display_data"
    },
    {
     "data": {
      "application/vnd.jupyter.widget-view+json": {
       "model_id": "04302374aeab4864a3e0ee7ecf3e9549"
      }
     },
     "metadata": {},
     "output_type": "display_data"
    }
   ],
   "source": [
    "a = widgets.FloatText()\n",
    "b = widgets.FloatSlider()\n",
    "display(a,b)\n",
    "mylink = widgets.jslink((a, 'value'), (b, 'value'))"
   ]
  },
  {
   "cell_type": "code",
   "execution_count": 6,
   "metadata": {},
   "outputs": [
    {
     "data": {
      "application/vnd.jupyter.widget-view+json": {
       "model_id": "00643b16f1cb4059b1d2508be80181f3"
      }
     },
     "metadata": {},
     "output_type": "display_data"
    }
   ],
   "source": [
    "w = widgets.FloatRangeSlider(\n",
    "    value=[5, 7.5],\n",
    "    min=0,\n",
    "    max=10.0,\n",
    "    step=0.1,\n",
    "    description='Test:',\n",
    "    disabled=False,\n",
    "    continuous_update=False,\n",
    "    orientation='horizontal',\n",
    "    readout=True,\n",
    "    readout_format='.1f',\n",
    ")\n",
    "\n",
    "display(w)"
   ]
  },
  {
   "cell_type": "code",
   "execution_count": 11,
   "metadata": {},
   "outputs": [
    {
     "data": {
      "application/vnd.jupyter.widget-view+json": {
       "model_id": "8d78bea5659d4cc281d23f8e6364dbaf"
      }
     },
     "metadata": {},
     "output_type": "display_data"
    }
   ],
   "source": [
    "ur = UnitRegistry()\n",
    "\n",
    "def filename_widget(description):\n",
    "    entry = widgets.Text(value='', placeholder='filename', description=description, disabled=False)\n",
    "    validation = widgets.Valid(value=False, description='file exists')\n",
    "\n",
    "    def observer(change):\n",
    "        try:\n",
    "            filename = change['new']['value']\n",
    "            validation.value = os.path.exists(filename) and os.path.isfile(filename)\n",
    "        except (KeyError, TypeError):\n",
    "            pass\n",
    "    \n",
    "    entry.observe(observer)\n",
    "    return widgets.Box([entry, validation]), entry\n",
    "\n",
    "input_file_box, input_file_text = filename_widget('Input file: ')\n",
    "control_file_box, control_file_text = filename_widget('Control sample: ')\n",
    "\n",
    "longitude_kw = widgets.Text(value='lon', description='Longitude keyword: ')\n",
    "lattitude_kw = widgets.Text(value='lat', description='Lattitude keyword: ')\n",
    "value_kw = widgets.Text(value='', placeholder='value name', description='Value keyword: ')\n",
    "\n",
    "load_button = widgets.HBox([widgets.Button(description='Load', button_style='info')], layout=Layout(justify_content='flex-end'))\n",
    "\n",
    "input_box = widgets.VBox([input_file_box, control_file_box, longitude_kw, lattitude_kw, value_kw, load_button])\n",
    "\n",
    "######################################################################\n",
    "\n",
    "tab_contents = ['All', 'Monthly']\n",
    "children = [widgets.Label(value=name) for name in tab_contents]\n",
    "tab = widgets.Tab()\n",
    "\n",
    "month = widgets.Dropdown(\n",
    "    options=dict(zip(['January', 'February', 'March', 'April', 'May', 'June'\n",
    "                      'July', 'August', 'September', 'October', 'November', 'December'],\n",
    "                     range(12))),\n",
    "    value=0,\n",
    "    description='Month:',\n",
    "    disabled=False,\n",
    ")\n",
    "children[1] = month\n",
    "\n",
    "tab.children = children\n",
    "for i in range(len(children)):\n",
    "    tab.set_title(i, tab_contents[i])\n",
    "\n",
    "selection_box = widgets.HBox([tab])\n",
    "\n",
    "######################################################################\n",
    "\n",
    "def quantity_widget(description, dimension):\n",
    "    entry = widgets.Text(value='', placeholder='quantity of {}'.format(dimension),\n",
    "                         description=description, disabled=False)\n",
    "    validation = widgets.Valid(value=False, description='correct units')\n",
    "\n",
    "    def observer(change):\n",
    "        try:\n",
    "            s = change['new']['value']\n",
    "            v = ur(s)\n",
    "            validation.value = (v.dimensionality == dimension)\n",
    "            \n",
    "        except Exception:\n",
    "            pass\n",
    "    \n",
    "    entry.observe(observer)\n",
    "    return widgets.Box([entry, validation]), entry\n",
    "\n",
    "sigma_l_box, sigma_l = quantity_widget(\"spatial smoothing radius (gaussian std-dev)\", \"[length]\")\n",
    "sigma_t_box, sigma_t = quantity_widget(\"time smoothing interval (gaussian std-dev)\", \"[time]\")\n",
    "sensity_box, sensitivity_ratio = quantity_widget(\"sensitivity ratio\", \"[length]/[time]\")\n",
    "filtering_box = widgets.VBox([sigma_l_box, sigma_t_box, sensity_box])\n",
    "\n",
    "######################################################################\n",
    "\n",
    "accordion = widgets.Accordion(children=[input_box, selection_box,\n",
    "                                        filtering_box])\n",
    "accordion.set_title(0, 'Input specification')\n",
    "accordion.set_title(1, 'Selection')\n",
    "accordion.set_title(2, 'Filtering')\n",
    "\n",
    "accordion"
   ]
  },
  {
   "cell_type": "code",
   "execution_count": 75,
   "metadata": {},
   "outputs": [
    {
     "data": {
      "text/plain": [
       "2"
      ]
     },
     "execution_count": 75,
     "metadata": {},
     "output_type": "execute_result"
    }
   ],
   "source": [
    "month.value"
   ]
  },
  {
   "cell_type": "code",
   "execution_count": null,
   "metadata": {
    "collapsed": true
   },
   "outputs": [],
   "source": []
  }
 ],
 "metadata": {
  "kernelspec": {
   "display_name": "Python 3",
   "language": "python",
   "name": "python3"
  },
  "language_info": {
   "codemirror_mode": {
    "name": "ipython",
    "version": 3
   },
   "file_extension": ".py",
   "mimetype": "text/x-python",
   "name": "python",
   "nbconvert_exporter": "python",
   "pygments_lexer": "ipython3",
   "version": "3.5.3"
  }
 },
 "nbformat": 4,
 "nbformat_minor": 2
}
